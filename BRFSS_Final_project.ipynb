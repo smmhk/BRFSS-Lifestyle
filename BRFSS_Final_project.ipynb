{
 "cells": [
  {
   "cell_type": "raw",
   "id": "768bbe1a-46f7-49fe-8c93-a30a4713339d",
   "metadata": {},
   "source": [
    "## Deciphering Health Patterns: BRFSS Lifestyle \n",
    "### Behavioral Risk Factor Surveillance Systemer (Yes/No)."
   ]
  },
  {
   "cell_type": "code",
   "execution_count": 83,
   "id": "f5712d51-b92f-4814-ac5a-69bb1339ab29",
   "metadata": {},
   "outputs": [
    {
     "data": {
      "text/html": [
       "<div>\n",
       "<style scoped>\n",
       "    .dataframe tbody tr th:only-of-type {\n",
       "        vertical-align: middle;\n",
       "    }\n",
       "\n",
       "    .dataframe tbody tr th {\n",
       "        vertical-align: top;\n",
       "    }\n",
       "\n",
       "    .dataframe thead th {\n",
       "        text-align: right;\n",
       "    }\n",
       "</style>\n",
       "<table border=\"1\" class=\"dataframe\">\n",
       "  <thead>\n",
       "    <tr style=\"text-align: right;\">\n",
       "      <th></th>\n",
       "      <th>HeartDisease</th>\n",
       "      <th>Smoking</th>\n",
       "      <th>AlcoholDrinking</th>\n",
       "      <th>Stroke</th>\n",
       "      <th>PhysicalHealth</th>\n",
       "      <th>MentalHealth</th>\n",
       "      <th>DiffWalking</th>\n",
       "      <th>Sex</th>\n",
       "      <th>AgeCategory</th>\n",
       "      <th>Race</th>\n",
       "      <th>Diabetic</th>\n",
       "      <th>PhysicalActivity</th>\n",
       "      <th>GenHealth</th>\n",
       "      <th>SleepTime</th>\n",
       "      <th>Asthma</th>\n",
       "      <th>KidneyDisease</th>\n",
       "      <th>SkinCancer</th>\n",
       "    </tr>\n",
       "  </thead>\n",
       "  <tbody>\n",
       "    <tr>\n",
       "      <th>0</th>\n",
       "      <td>No</td>\n",
       "      <td>Yes</td>\n",
       "      <td>No</td>\n",
       "      <td>No</td>\n",
       "      <td>0</td>\n",
       "      <td>0.0</td>\n",
       "      <td>No</td>\n",
       "      <td>Female</td>\n",
       "      <td>65-69</td>\n",
       "      <td>White</td>\n",
       "      <td>No</td>\n",
       "      <td>Yes</td>\n",
       "      <td>Good</td>\n",
       "      <td>6.0</td>\n",
       "      <td>No</td>\n",
       "      <td>No</td>\n",
       "      <td>No</td>\n",
       "    </tr>\n",
       "    <tr>\n",
       "      <th>1</th>\n",
       "      <td>No</td>\n",
       "      <td>No</td>\n",
       "      <td>No</td>\n",
       "      <td>No</td>\n",
       "      <td>3</td>\n",
       "      <td>0.0</td>\n",
       "      <td>No</td>\n",
       "      <td>Female</td>\n",
       "      <td>35-39</td>\n",
       "      <td>Black</td>\n",
       "      <td>No</td>\n",
       "      <td>No</td>\n",
       "      <td>Very good</td>\n",
       "      <td>6.0</td>\n",
       "      <td>Yes</td>\n",
       "      <td>No</td>\n",
       "      <td>No</td>\n",
       "    </tr>\n",
       "    <tr>\n",
       "      <th>2</th>\n",
       "      <td>No</td>\n",
       "      <td>No</td>\n",
       "      <td>No</td>\n",
       "      <td>No</td>\n",
       "      <td>10</td>\n",
       "      <td>23.0</td>\n",
       "      <td>No</td>\n",
       "      <td>Female</td>\n",
       "      <td>18-24</td>\n",
       "      <td>White</td>\n",
       "      <td>No</td>\n",
       "      <td>Yes</td>\n",
       "      <td>Very good</td>\n",
       "      <td>6.0</td>\n",
       "      <td>Yes</td>\n",
       "      <td>No</td>\n",
       "      <td>No</td>\n",
       "    </tr>\n",
       "    <tr>\n",
       "      <th>3</th>\n",
       "      <td>No</td>\n",
       "      <td>No</td>\n",
       "      <td>No</td>\n",
       "      <td>No</td>\n",
       "      <td>0</td>\n",
       "      <td>0.0</td>\n",
       "      <td>No</td>\n",
       "      <td>Female</td>\n",
       "      <td>50-54</td>\n",
       "      <td>Hispanic</td>\n",
       "      <td>Yes</td>\n",
       "      <td>Yes</td>\n",
       "      <td>Fair</td>\n",
       "      <td>6.0</td>\n",
       "      <td>No</td>\n",
       "      <td>No</td>\n",
       "      <td>No</td>\n",
       "    </tr>\n",
       "    <tr>\n",
       "      <th>4</th>\n",
       "      <td>No</td>\n",
       "      <td>Yes</td>\n",
       "      <td>No</td>\n",
       "      <td>No</td>\n",
       "      <td>0</td>\n",
       "      <td>0.0</td>\n",
       "      <td>No</td>\n",
       "      <td>Male</td>\n",
       "      <td>60-64</td>\n",
       "      <td>White</td>\n",
       "      <td>No</td>\n",
       "      <td>No</td>\n",
       "      <td>Good</td>\n",
       "      <td>7.0</td>\n",
       "      <td>No</td>\n",
       "      <td>No</td>\n",
       "      <td>No</td>\n",
       "    </tr>\n",
       "  </tbody>\n",
       "</table>\n",
       "</div>"
      ],
      "text/plain": [
       "  HeartDisease Smoking AlcoholDrinking Stroke  PhysicalHealth  MentalHealth  \\\n",
       "0           No     Yes              No     No               0           0.0   \n",
       "1           No      No              No     No               3           0.0   \n",
       "2           No      No              No     No              10          23.0   \n",
       "3           No      No              No     No               0           0.0   \n",
       "4           No     Yes              No     No               0           0.0   \n",
       "\n",
       "  DiffWalking     Sex AgeCategory      Race Diabetic PhysicalActivity  \\\n",
       "0          No  Female       65-69     White       No              Yes   \n",
       "1          No  Female       35-39     Black       No               No   \n",
       "2          No  Female       18-24     White       No              Yes   \n",
       "3          No  Female       50-54  Hispanic      Yes              Yes   \n",
       "4          No    Male       60-64     White       No               No   \n",
       "\n",
       "   GenHealth  SleepTime Asthma KidneyDisease SkinCancer  \n",
       "0       Good        6.0     No            No         No  \n",
       "1  Very good        6.0    Yes            No         No  \n",
       "2  Very good        6.0    Yes            No         No  \n",
       "3       Fair        6.0     No            No         No  \n",
       "4       Good        7.0     No            No         No  "
      ]
     },
     "execution_count": 83,
     "metadata": {},
     "output_type": "execute_result"
    }
   ],
   "source": [
    "import pandas as pd\n",
    "import scipy.stats as stats\n",
    "import numpy as np\n",
    "import seaborn as sns\n",
    "import matplotlib.pyplot as plt\n",
    "\n",
    "csv = pd.read_csv('~/Desktop/Jupyter/BRFSS_sample.csv')\n",
    "\n",
    "df = pd.DataFrame(csv)\n",
    "df.head()"
   ]
  },
  {
   "cell_type": "code",
   "execution_count": 84,
   "id": "ef79f629-d310-42c9-abb8-fdb00d84878d",
   "metadata": {},
   "outputs": [
    {
     "name": "stdout",
     "output_type": "stream",
     "text": [
      "<class 'pandas.core.frame.DataFrame'>\n",
      "RangeIndex: 68796 entries, 0 to 68795\n",
      "Data columns (total 17 columns):\n",
      " #   Column            Non-Null Count  Dtype  \n",
      "---  ------            --------------  -----  \n",
      " 0   HeartDisease      68796 non-null  object \n",
      " 1   Smoking           68796 non-null  object \n",
      " 2   AlcoholDrinking   68796 non-null  object \n",
      " 3   Stroke            68796 non-null  object \n",
      " 4   PhysicalHealth    68796 non-null  int64  \n",
      " 5   MentalHealth      68795 non-null  float64\n",
      " 6   DiffWalking       68795 non-null  object \n",
      " 7   Sex               68795 non-null  object \n",
      " 8   AgeCategory       68795 non-null  object \n",
      " 9   Race              68795 non-null  object \n",
      " 10  Diabetic          68795 non-null  object \n",
      " 11  PhysicalActivity  68795 non-null  object \n",
      " 12  GenHealth         68795 non-null  object \n",
      " 13  SleepTime         68795 non-null  float64\n",
      " 14  Asthma            68795 non-null  object \n",
      " 15  KidneyDisease     68795 non-null  object \n",
      " 16  SkinCancer        68795 non-null  object \n",
      "dtypes: float64(2), int64(1), object(14)\n",
      "memory usage: 8.9+ MB\n"
     ]
    }
   ],
   "source": [
    "df.info()"
   ]
  },
  {
   "cell_type": "code",
   "execution_count": 85,
   "id": "305a994c-e700-430c-8c3b-ef93e4c457a9",
   "metadata": {},
   "outputs": [
    {
     "data": {
      "text/html": [
       "<div>\n",
       "<style scoped>\n",
       "    .dataframe tbody tr th:only-of-type {\n",
       "        vertical-align: middle;\n",
       "    }\n",
       "\n",
       "    .dataframe tbody tr th {\n",
       "        vertical-align: top;\n",
       "    }\n",
       "\n",
       "    .dataframe thead th {\n",
       "        text-align: right;\n",
       "    }\n",
       "</style>\n",
       "<table border=\"1\" class=\"dataframe\">\n",
       "  <thead>\n",
       "    <tr style=\"text-align: right;\">\n",
       "      <th></th>\n",
       "      <th>PhysicalHealth</th>\n",
       "      <th>MentalHealth</th>\n",
       "      <th>SleepTime</th>\n",
       "    </tr>\n",
       "  </thead>\n",
       "  <tbody>\n",
       "    <tr>\n",
       "      <th>count</th>\n",
       "      <td>68796.000000</td>\n",
       "      <td>68795.000000</td>\n",
       "      <td>68795.000000</td>\n",
       "    </tr>\n",
       "    <tr>\n",
       "      <th>mean</th>\n",
       "      <td>3.351241</td>\n",
       "      <td>3.926594</td>\n",
       "      <td>7.097900</td>\n",
       "    </tr>\n",
       "    <tr>\n",
       "      <th>std</th>\n",
       "      <td>7.936026</td>\n",
       "      <td>7.983287</td>\n",
       "      <td>1.436809</td>\n",
       "    </tr>\n",
       "    <tr>\n",
       "      <th>min</th>\n",
       "      <td>0.000000</td>\n",
       "      <td>0.000000</td>\n",
       "      <td>1.000000</td>\n",
       "    </tr>\n",
       "    <tr>\n",
       "      <th>25%</th>\n",
       "      <td>0.000000</td>\n",
       "      <td>0.000000</td>\n",
       "      <td>6.000000</td>\n",
       "    </tr>\n",
       "    <tr>\n",
       "      <th>50%</th>\n",
       "      <td>0.000000</td>\n",
       "      <td>0.000000</td>\n",
       "      <td>7.000000</td>\n",
       "    </tr>\n",
       "    <tr>\n",
       "      <th>75%</th>\n",
       "      <td>2.000000</td>\n",
       "      <td>3.000000</td>\n",
       "      <td>8.000000</td>\n",
       "    </tr>\n",
       "    <tr>\n",
       "      <th>max</th>\n",
       "      <td>30.000000</td>\n",
       "      <td>30.000000</td>\n",
       "      <td>24.000000</td>\n",
       "    </tr>\n",
       "  </tbody>\n",
       "</table>\n",
       "</div>"
      ],
      "text/plain": [
       "       PhysicalHealth  MentalHealth     SleepTime\n",
       "count    68796.000000  68795.000000  68795.000000\n",
       "mean         3.351241      3.926594      7.097900\n",
       "std          7.936026      7.983287      1.436809\n",
       "min          0.000000      0.000000      1.000000\n",
       "25%          0.000000      0.000000      6.000000\n",
       "50%          0.000000      0.000000      7.000000\n",
       "75%          2.000000      3.000000      8.000000\n",
       "max         30.000000     30.000000     24.000000"
      ]
     },
     "execution_count": 85,
     "metadata": {},
     "output_type": "execute_result"
    }
   ],
   "source": [
    "df.describe()"
   ]
  },
  {
   "cell_type": "code",
   "execution_count": 86,
   "id": "bf0af670-3615-4b09-ad1d-962b4e08e20c",
   "metadata": {},
   "outputs": [
    {
     "name": "stdout",
     "output_type": "stream",
     "text": [
      "Missing values before cleaning:\n",
      " HeartDisease        0\n",
      "Smoking             0\n",
      "AlcoholDrinking     0\n",
      "Stroke              0\n",
      "PhysicalHealth      0\n",
      "MentalHealth        1\n",
      "DiffWalking         1\n",
      "Sex                 1\n",
      "AgeCategory         1\n",
      "Race                1\n",
      "Diabetic            1\n",
      "PhysicalActivity    1\n",
      "GenHealth           1\n",
      "SleepTime           1\n",
      "Asthma              1\n",
      "KidneyDisease       1\n",
      "SkinCancer          1\n",
      "dtype: int64\n"
     ]
    }
   ],
   "source": [
    "# 1. Check for Missing Values\n",
    "print(\"Missing values before cleaning:\\n\", df.isnull().sum())"
   ]
  },
  {
   "cell_type": "code",
   "execution_count": 81,
   "id": "9b362711-d03a-4e1f-aa09-ed5374685eb1",
   "metadata": {},
   "outputs": [],
   "source": [
    "# Fill missing values\n",
    "df['SleepTime'] = df['SleepTime'].fillna(df['SleepTime'].mean())\n",
    "# df['PhysicalActivity'] = df['PhysicalActivity'].fillna(df['PhysicalActivity'].mean())"
   ]
  },
  {
   "cell_type": "code",
   "execution_count": 56,
   "id": "3b4384eb-004f-49e8-850c-f31b1f2cfed4",
   "metadata": {},
   "outputs": [
    {
     "data": {
      "text/html": [
       "<div>\n",
       "<style scoped>\n",
       "    .dataframe tbody tr th:only-of-type {\n",
       "        vertical-align: middle;\n",
       "    }\n",
       "\n",
       "    .dataframe tbody tr th {\n",
       "        vertical-align: top;\n",
       "    }\n",
       "\n",
       "    .dataframe thead th {\n",
       "        text-align: right;\n",
       "    }\n",
       "</style>\n",
       "<table border=\"1\" class=\"dataframe\">\n",
       "  <thead>\n",
       "    <tr style=\"text-align: right;\">\n",
       "      <th></th>\n",
       "      <th>HeartDisease</th>\n",
       "      <th>Smoking</th>\n",
       "      <th>AlcoholDrinking</th>\n",
       "      <th>Stroke</th>\n",
       "      <th>PhysicalHealth</th>\n",
       "      <th>MentalHealth</th>\n",
       "      <th>DiffWalking</th>\n",
       "      <th>Sex</th>\n",
       "      <th>AgeCategory</th>\n",
       "      <th>Race</th>\n",
       "      <th>Diabetic</th>\n",
       "      <th>PhysicalActivity</th>\n",
       "      <th>GenHealth</th>\n",
       "      <th>SleepTime</th>\n",
       "      <th>Asthma</th>\n",
       "      <th>KidneyDisease</th>\n",
       "      <th>SkinCancer</th>\n",
       "    </tr>\n",
       "  </thead>\n",
       "  <tbody>\n",
       "    <tr>\n",
       "      <th>0</th>\n",
       "      <td>No</td>\n",
       "      <td>Yes</td>\n",
       "      <td>No</td>\n",
       "      <td>No</td>\n",
       "      <td>0</td>\n",
       "      <td>0.0</td>\n",
       "      <td>No</td>\n",
       "      <td>Female</td>\n",
       "      <td>65-69</td>\n",
       "      <td>White</td>\n",
       "      <td>No</td>\n",
       "      <td>Yes</td>\n",
       "      <td>Good</td>\n",
       "      <td>6.0</td>\n",
       "      <td>No</td>\n",
       "      <td>No</td>\n",
       "      <td>No</td>\n",
       "    </tr>\n",
       "    <tr>\n",
       "      <th>1</th>\n",
       "      <td>No</td>\n",
       "      <td>No</td>\n",
       "      <td>No</td>\n",
       "      <td>No</td>\n",
       "      <td>3</td>\n",
       "      <td>0.0</td>\n",
       "      <td>No</td>\n",
       "      <td>Female</td>\n",
       "      <td>35-39</td>\n",
       "      <td>Black</td>\n",
       "      <td>No</td>\n",
       "      <td>No</td>\n",
       "      <td>Very good</td>\n",
       "      <td>6.0</td>\n",
       "      <td>Yes</td>\n",
       "      <td>No</td>\n",
       "      <td>No</td>\n",
       "    </tr>\n",
       "    <tr>\n",
       "      <th>2</th>\n",
       "      <td>No</td>\n",
       "      <td>No</td>\n",
       "      <td>No</td>\n",
       "      <td>No</td>\n",
       "      <td>10</td>\n",
       "      <td>23.0</td>\n",
       "      <td>No</td>\n",
       "      <td>Female</td>\n",
       "      <td>18-24</td>\n",
       "      <td>White</td>\n",
       "      <td>No</td>\n",
       "      <td>Yes</td>\n",
       "      <td>Very good</td>\n",
       "      <td>6.0</td>\n",
       "      <td>Yes</td>\n",
       "      <td>No</td>\n",
       "      <td>No</td>\n",
       "    </tr>\n",
       "    <tr>\n",
       "      <th>3</th>\n",
       "      <td>No</td>\n",
       "      <td>No</td>\n",
       "      <td>No</td>\n",
       "      <td>No</td>\n",
       "      <td>0</td>\n",
       "      <td>0.0</td>\n",
       "      <td>No</td>\n",
       "      <td>Female</td>\n",
       "      <td>50-54</td>\n",
       "      <td>Hispanic</td>\n",
       "      <td>Yes</td>\n",
       "      <td>Yes</td>\n",
       "      <td>Fair</td>\n",
       "      <td>6.0</td>\n",
       "      <td>No</td>\n",
       "      <td>No</td>\n",
       "      <td>No</td>\n",
       "    </tr>\n",
       "    <tr>\n",
       "      <th>4</th>\n",
       "      <td>No</td>\n",
       "      <td>Yes</td>\n",
       "      <td>No</td>\n",
       "      <td>No</td>\n",
       "      <td>0</td>\n",
       "      <td>0.0</td>\n",
       "      <td>No</td>\n",
       "      <td>Male</td>\n",
       "      <td>60-64</td>\n",
       "      <td>White</td>\n",
       "      <td>No</td>\n",
       "      <td>No</td>\n",
       "      <td>Good</td>\n",
       "      <td>7.0</td>\n",
       "      <td>No</td>\n",
       "      <td>No</td>\n",
       "      <td>No</td>\n",
       "    </tr>\n",
       "    <tr>\n",
       "      <th>...</th>\n",
       "      <td>...</td>\n",
       "      <td>...</td>\n",
       "      <td>...</td>\n",
       "      <td>...</td>\n",
       "      <td>...</td>\n",
       "      <td>...</td>\n",
       "      <td>...</td>\n",
       "      <td>...</td>\n",
       "      <td>...</td>\n",
       "      <td>...</td>\n",
       "      <td>...</td>\n",
       "      <td>...</td>\n",
       "      <td>...</td>\n",
       "      <td>...</td>\n",
       "      <td>...</td>\n",
       "      <td>...</td>\n",
       "      <td>...</td>\n",
       "    </tr>\n",
       "    <tr>\n",
       "      <th>68790</th>\n",
       "      <td>No</td>\n",
       "      <td>No</td>\n",
       "      <td>No</td>\n",
       "      <td>No</td>\n",
       "      <td>0</td>\n",
       "      <td>0.0</td>\n",
       "      <td>No</td>\n",
       "      <td>Female</td>\n",
       "      <td>35-39</td>\n",
       "      <td>Asian</td>\n",
       "      <td>No</td>\n",
       "      <td>No</td>\n",
       "      <td>Excellent</td>\n",
       "      <td>9.0</td>\n",
       "      <td>No</td>\n",
       "      <td>No</td>\n",
       "      <td>No</td>\n",
       "    </tr>\n",
       "    <tr>\n",
       "      <th>68791</th>\n",
       "      <td>No</td>\n",
       "      <td>No</td>\n",
       "      <td>No</td>\n",
       "      <td>No</td>\n",
       "      <td>30</td>\n",
       "      <td>10.0</td>\n",
       "      <td>No</td>\n",
       "      <td>Male</td>\n",
       "      <td>60-64</td>\n",
       "      <td>Other</td>\n",
       "      <td>No</td>\n",
       "      <td>Yes</td>\n",
       "      <td>Good</td>\n",
       "      <td>7.0</td>\n",
       "      <td>No</td>\n",
       "      <td>No</td>\n",
       "      <td>No</td>\n",
       "    </tr>\n",
       "    <tr>\n",
       "      <th>68792</th>\n",
       "      <td>No</td>\n",
       "      <td>No</td>\n",
       "      <td>Yes</td>\n",
       "      <td>No</td>\n",
       "      <td>0</td>\n",
       "      <td>0.0</td>\n",
       "      <td>No</td>\n",
       "      <td>Male</td>\n",
       "      <td>50-54</td>\n",
       "      <td>White</td>\n",
       "      <td>No</td>\n",
       "      <td>Yes</td>\n",
       "      <td>Excellent</td>\n",
       "      <td>8.0</td>\n",
       "      <td>No</td>\n",
       "      <td>No</td>\n",
       "      <td>No</td>\n",
       "    </tr>\n",
       "    <tr>\n",
       "      <th>68793</th>\n",
       "      <td>No</td>\n",
       "      <td>No</td>\n",
       "      <td>No</td>\n",
       "      <td>No</td>\n",
       "      <td>7</td>\n",
       "      <td>0.0</td>\n",
       "      <td>No</td>\n",
       "      <td>Male</td>\n",
       "      <td>45-49</td>\n",
       "      <td>White</td>\n",
       "      <td>No</td>\n",
       "      <td>No</td>\n",
       "      <td>Good</td>\n",
       "      <td>8.0</td>\n",
       "      <td>No</td>\n",
       "      <td>No</td>\n",
       "      <td>No</td>\n",
       "    </tr>\n",
       "    <tr>\n",
       "      <th>68794</th>\n",
       "      <td>No</td>\n",
       "      <td>No</td>\n",
       "      <td>No</td>\n",
       "      <td>No</td>\n",
       "      <td>2</td>\n",
       "      <td>5.0</td>\n",
       "      <td>No</td>\n",
       "      <td>Female</td>\n",
       "      <td>65-69</td>\n",
       "      <td>Asian</td>\n",
       "      <td>No</td>\n",
       "      <td>Yes</td>\n",
       "      <td>Excellent</td>\n",
       "      <td>7.0</td>\n",
       "      <td>No</td>\n",
       "      <td>No</td>\n",
       "      <td>No</td>\n",
       "    </tr>\n",
       "  </tbody>\n",
       "</table>\n",
       "<p>68795 rows × 17 columns</p>\n",
       "</div>"
      ],
      "text/plain": [
       "      HeartDisease Smoking AlcoholDrinking Stroke  PhysicalHealth  \\\n",
       "0               No     Yes              No     No               0   \n",
       "1               No      No              No     No               3   \n",
       "2               No      No              No     No              10   \n",
       "3               No      No              No     No               0   \n",
       "4               No     Yes              No     No               0   \n",
       "...            ...     ...             ...    ...             ...   \n",
       "68790           No      No              No     No               0   \n",
       "68791           No      No              No     No              30   \n",
       "68792           No      No             Yes     No               0   \n",
       "68793           No      No              No     No               7   \n",
       "68794           No      No              No     No               2   \n",
       "\n",
       "       MentalHealth DiffWalking     Sex AgeCategory      Race Diabetic  \\\n",
       "0               0.0          No  Female       65-69     White       No   \n",
       "1               0.0          No  Female       35-39     Black       No   \n",
       "2              23.0          No  Female       18-24     White       No   \n",
       "3               0.0          No  Female       50-54  Hispanic      Yes   \n",
       "4               0.0          No    Male       60-64     White       No   \n",
       "...             ...         ...     ...         ...       ...      ...   \n",
       "68790           0.0          No  Female       35-39     Asian       No   \n",
       "68791          10.0          No    Male       60-64     Other       No   \n",
       "68792           0.0          No    Male       50-54     White       No   \n",
       "68793           0.0          No    Male       45-49     White       No   \n",
       "68794           5.0          No  Female       65-69     Asian       No   \n",
       "\n",
       "      PhysicalActivity  GenHealth  SleepTime Asthma KidneyDisease SkinCancer  \n",
       "0                  Yes       Good        6.0     No            No         No  \n",
       "1                   No  Very good        6.0    Yes            No         No  \n",
       "2                  Yes  Very good        6.0    Yes            No         No  \n",
       "3                  Yes       Fair        6.0     No            No         No  \n",
       "4                   No       Good        7.0     No            No         No  \n",
       "...                ...        ...        ...    ...           ...        ...  \n",
       "68790               No  Excellent        9.0     No            No         No  \n",
       "68791              Yes       Good        7.0     No            No         No  \n",
       "68792              Yes  Excellent        8.0     No            No         No  \n",
       "68793               No       Good        8.0     No            No         No  \n",
       "68794              Yes  Excellent        7.0     No            No         No  \n",
       "\n",
       "[68795 rows x 17 columns]"
      ]
     },
     "execution_count": 56,
     "metadata": {},
     "output_type": "execute_result"
    }
   ],
   "source": [
    "df.dropna(subset=['SleepTime'])"
   ]
  },
  {
   "cell_type": "code",
   "execution_count": 13,
   "id": "c1a7bc72-2bac-477e-ba6e-cf3932e7134e",
   "metadata": {},
   "outputs": [
    {
     "data": {
      "text/plain": [
       "<Axes: ylabel='AgeCategory'>"
      ]
     },
     "execution_count": 13,
     "metadata": {},
     "output_type": "execute_result"
    },
    {
     "data": {
      "image/png": "[encoded data removed]",
      "text/plain": [
       "<Figure size 640x480 with 1 Axes>"
      ]
     },
     "metadata": {},
     "output_type": "display_data"
    }
   ],
   "source": [
    "# df['AgeCategory'].sort_values(ascending= True)\n",
    "df['AgeCategory'].sort_values(ascending= True).value_counts().plot(kind='barh')"
   ]
  },
  {
   "cell_type": "code",
   "execution_count": 12,
   "id": "344cbac8-6864-4929-9baf-50442dff4f5b",
   "metadata": {},
   "outputs": [],
   "source": [
    "# AgeCategory를 범주형(category) 데이터로 변환\n",
    "df['AgeCategory'] = df['AgeCategory'].astype('category')"
   ]
  },
  {
   "cell_type": "code",
   "execution_count": 16,
   "id": "48b3ca1a-f19d-4eb9-9d6f-7e678fcd991f",
   "metadata": {},
   "outputs": [
    {
     "data": {
      "image/png": "[encoded data removed]",
      "text/plain": [
       "<Figure size 640x480 with 1 Axes>"
      ]
     },
     "metadata": {},
     "output_type": "display_data"
    }
   ],
   "source": [
    "# 성별 분포\n",
    "sns.countplot(x='Sex', data=df)\n",
    "plt.title('Distribution of Sex')\n",
    "plt.show()"
   ]
  },
  {
   "cell_type": "code",
   "execution_count": 17,
   "id": "c68c7c62-3e66-41ad-9765-44e56df46618",
   "metadata": {},
   "outputs": [
    {
     "data": {
      "image/png": "[encoded data removed]",
      "text/plain": [
       "<Figure size 640x480 with 1 Axes>"
      ]
     },
     "metadata": {},
     "output_type": "display_data"
    }
   ],
   "source": [
    "# 나이 분포\n",
    "sns.countplot(x='AgeCategory', data=df)\n",
    "plt.title('Distribution of Age Category')\n",
    "plt.show()"
   ]
  },
  {
   "cell_type": "code",
   "execution_count": 18,
   "id": "4b4a7f61-f7fa-4998-b82d-f69da93ef4f3",
   "metadata": {},
   "outputs": [
    {
     "data": {
      "image/png": "[encoded data removed]",
      "text/plain": [
       "<Figure size 640x480 with 1 Axes>"
      ]
     },
     "metadata": {},
     "output_type": "display_data"
    }
   ],
   "source": [
    "# 흡연 여부 분포\n",
    "sns.countplot(x='Smoking', data=df)\n",
    "plt.title('Distribution of Smoking')\n",
    "plt.show()"
   ]
  },
  {
   "cell_type": "code",
   "execution_count": 19,
   "id": "e04eec97-1495-45db-b2f7-a9217ab99798",
   "metadata": {},
   "outputs": [
    {
     "data": {
      "image/png": "[encoded data removed]",
      "text/plain": [
       "<Figure size 640x480 with 1 Axes>"
      ]
     },
     "metadata": {},
     "output_type": "display_data"
    }
   ],
   "source": [
    "# 신체 건강 분포\n",
    "plt.hist(df['PhysicalHealth'], bins=10, edgecolor='black')\n",
    "plt.title('Distribution of Physical Health')\n",
    "plt.xlabel('Physical Health (Days)')\n",
    "plt.ylabel('Count')\n",
    "plt.show()"
   ]
  },
  {
   "cell_type": "code",
   "execution_count": 20,
   "id": "3acfcbd6-d287-4847-ab3f-e9559002a38c",
   "metadata": {},
   "outputs": [
    {
     "data": {
      "image/png": "[encoded data removed]",
      "text/plain": [
       "<Figure size 640x480 with 1 Axes>"
      ]
     },
     "metadata": {},
     "output_type": "display_data"
    }
   ],
   "source": [
    "# 수면 시간 분포\n",
    "plt.hist(df['SleepTime'], bins=10, edgecolor='black')\n",
    "plt.title('Distribution of Sleep Time')\n",
    "plt.xlabel('Hours of Sleep')\n",
    "plt.ylabel('Count')\n",
    "plt.show()"
   ]
  },
  {
   "cell_type": "code",
   "execution_count": 21,
   "id": "8231e796-69b0-4fa4-b540-faf04befcbf3",
   "metadata": {},
   "outputs": [
    {
     "data": {
      "image/png": "[encoded data removed]",
      "text/plain": [
       "<Figure size 640x480 with 1 Axes>"
      ]
     },
     "metadata": {},
     "output_type": "display_data"
    }
   ],
   "source": [
    "# 성별에 따른 수면 시간 분포\n",
    "sns.boxplot(x='Sex', y='SleepTime', data=df)\n",
    "plt.title('Sleep Time by Sex')\n",
    "plt.show()"
   ]
  },
  {
   "cell_type": "code",
   "execution_count": 22,
   "id": "7288a549-66c2-4d24-8a66-e9ba7d200fec",
   "metadata": {},
   "outputs": [
    {
     "data": {
      "image/png": "[encoded data removed]",
      "text/plain": [
       "<Figure size 640x480 with 1 Axes>"
      ]
     },
     "metadata": {},
     "output_type": "display_data"
    }
   ],
   "source": [
    "# 나이 카테고리에 따른 신체 건강 분포\n",
    "sns.boxplot(x='AgeCategory', y='PhysicalHealth', data=df)\n",
    "plt.title('Physical Health by Age Category')\n",
    "plt.show()"
   ]
  },
  {
   "cell_type": "code",
   "execution_count": 23,
   "id": "3e29f63b-9131-48b6-9ebc-ad3b81e052f8",
   "metadata": {},
   "outputs": [
    {
     "data": {
      "image/png": "[encoded data removed]",
      "text/plain": [
       "<Figure size 640x480 with 1 Axes>"
      ]
     },
     "metadata": {},
     "output_type": "display_data"
    }
   ],
   "source": [
    "# 심장병 여부에 따른 비율\n",
    "heart_disease_counts = df['HeartDisease'].value_counts()\n",
    "plt.pie(heart_disease_counts, labels=heart_disease_counts.index, autopct='%1.1f%%', startangle=90, colors=['lightcoral', 'lightskyblue'])\n",
    "plt.title('Heart Disease Distribution')\n",
    "plt.show()"
   ]
  },
  {
   "cell_type": "code",
   "execution_count": 24,
   "id": "2902c430-e200-445d-9e9b-8075b6c89c5f",
   "metadata": {},
   "outputs": [
    {
     "data": {
      "image/png": "[encoded data removed]",
      "text/plain": [
       "<Figure size 640x480 with 1 Axes>"
      ]
     },
     "metadata": {},
     "output_type": "display_data"
    }
   ],
   "source": [
    "# 뇌졸중 여부에 따른 비율\n",
    "stroke_counts = df['Stroke'].value_counts()\n",
    "plt.pie(stroke_counts, labels=stroke_counts.index, autopct='%1.1f%%', startangle=90, colors=['lightgreen', 'lightpink'])\n",
    "plt.title('Stroke Distribution')\n",
    "plt.show()"
   ]
  },
  {
   "cell_type": "markdown",
   "id": "2573f228-8eea-4f07-9ffe-2fe4b883b285",
   "metadata": {},
   "source": [
    "#### Hypothesis Testing 1\n",
    "###### H₀ (귀무가설): 흡연 여부는 심장병 발생 여부와 관련이 없다.\n",
    "###### H₁ (대립가설): 흡연 여부는 심장병 발생 여부와 관련이 있다.\n",
    "###### H₀ (Null Hypothesis): Smoking status is not associated with the occurrence of heart disease.\n",
    "###### H₁ (Alternative Hypothesis): Smoking status is associated with the occurrence of heart disease."
   ]
  },
  {
   "cell_type": "code",
   "execution_count": 74,
   "id": "5e2ad1d1-8484-4390-9424-6bbe35166b78",
   "metadata": {},
   "outputs": [
    {
     "name": "stdout",
     "output_type": "stream",
     "text": [
      "교차표:\n",
      "HeartDisease     No   Yes\n",
      "Smoking                  \n",
      "No            38035  2527\n",
      "Yes           24686  3548\n",
      "\n",
      "카이제곱 검정 결과:\n",
      "카이제곱 값: 829.4201459485713\n",
      "P-값: 2.166379043738107e-182\n",
      "자유도: 1\n",
      "기대 빈도수:\n",
      "[[36980.19073783  3581.80926217]\n",
      " [25740.80926217  2493.19073783]]\n",
      "\n",
      "귀무가설을 기각합니다\n"
     ]
    }
   ],
   "source": [
    "# 교차표 생성\n",
    "contingency_table = pd.crosstab(df['Smoking'], df['HeartDisease'])\n",
    "print(\"교차표:\")\n",
    "print(contingency_table)\n",
    "\n",
    "# 카이제곱 검정 수행\n",
    "chi2, p, dof, expected = stats.chi2_contingency(contingency_table)\n",
    "\n",
    "# 결과 출력\n",
    "print(\"\\n카이제곱 검정 결과:\")\n",
    "print(f\"카이제곱 값: {chi2}\")\n",
    "print(f\"P-값: {p}\")\n",
    "print(f\"자유도: {dof}\")\n",
    "print(\"기대 빈도수:\")\n",
    "print(expected)\n",
    "\n",
    "# 결론\n",
    "alpha = 0.05\n",
    "if p < alpha:\n",
    "    print(\"\\n귀무가설을 기각합니다\")\n",
    "else:\n",
    "    print(\"\\n귀무가설을 기각하지 않습니다\")"
   ]
  },
  {
   "cell_type": "markdown",
   "id": "e3836f55-4506-4c05-a51a-ffe4edd740fb",
   "metadata": {},
   "source": [
    "#### Hypothesis Testing 2\n",
    "###### H₀ (귀무가설): 흡연 여부(Smoking)는 수면 시간(SleepTime)에 영향을 미치지 않는다.\n",
    "###### H₁ (대립가설): 흡연 여부는 수면 시간에 영향을 미친다.\n",
    "###### H₀ (Null Hypothesis): Smoking does not affect sleep time.\n",
    "###### H₁ (Alternative Hypothesis): Smoking affects sleep time."
   ]
  },
  {
   "cell_type": "code",
   "execution_count": 75,
   "id": "116b11f4-71c4-4d9f-83d4-32c0d6408114",
   "metadata": {},
   "outputs": [
    {
     "name": "stdout",
     "output_type": "stream",
     "text": [
      "TtestResult(statistic=-9.198091888785505, pvalue=3.741850832195098e-20, df=68794.0)\n",
      "T-검정 결과:\n",
      "T-통계량: -9.198091888785505\n",
      "P-값: 3.741850832195098e-20\n",
      "\n",
      "귀무가설을 기각합니다: 흡연자와 비흡연자 간에 수면 시간에 유의미한 차이가 있습니다.\n"
     ]
    }
   ],
   "source": [
    "# 흡연자와 비흡연자의 수면 시간 추출\n",
    "smoking_group = df[df['Smoking'] == 'Yes']['SleepTime']\n",
    "non_smoking_group = df[df['Smoking'] == 'No']['SleepTime']\n",
    "\n",
    "# T-검정 수행\n",
    "t_stat, p_value = stats.ttest_ind(smoking_group, non_smoking_group)\n",
    "print( stats.ttest_ind(smoking_group, non_smoking_group))\n",
    "\n",
    "# 결과 출력\n",
    "print(\"T-검정 결과:\")\n",
    "print(f\"T-통계량: {t_stat}\")\n",
    "print(f\"P-값: {p_value}\")\n",
    "\n",
    "# 결론\n",
    "alpha = 0.05\n",
    "if p_value < alpha:\n",
    "    print(\"\\n귀무가설을 기각합니다: 흡연자와 비흡연자 간에 수면 시간에 유의미한 차이가 있습니다.\")\n",
    "else:\n",
    "    print(\"\\n귀무가설을 기각하지 않습니다: 흡연자와 비흡연자 간에 수면 시간에 유의미한 차이가 없습니다.\")"
   ]
  },
  {
   "cell_type": "markdown",
   "id": "4d609e82-ca8a-4b69-b7da-b6bc89e133ff",
   "metadata": {},
   "source": [
    "#### Hypothesis Testing 3\n",
    "###### H₀ (귀무가설): 흡연 여부는 피부암(SkinCancer) 발생과 관련이 없다.\n",
    "###### H₁ (대립가설): 흡연 여부는 피부암 발생과 관련이 있다\n",
    "###### H₀ (Null Hypothesis): Smoking status is not related to the occurrence of skin cancer.\n",
    "###### H₁ (Alternative Hypothesis): Smoking status is related to the occurrence of skin cancer."
   ]
  },
  {
   "cell_type": "code",
   "execution_count": 76,
   "id": "b71d727b-0e62-450a-8b98-16eafd9b3ad2",
   "metadata": {},
   "outputs": [
    {
     "name": "stdout",
     "output_type": "stream",
     "text": [
      "교차표:\n",
      "SkinCancer     No   Yes\n",
      "Smoking                \n",
      "No          37071  3490\n",
      "Yes         25219  3015\n",
      "\n",
      "카이제곱 검정 결과:\n",
      "카이제곱 값: 83.41662981333066\n",
      "P-값: 6.646054808870276e-20\n",
      "자유도: 1\n",
      "기대 빈도수:\n",
      "[[36725.70230395  3835.29769605]\n",
      " [25564.29769605  2669.70230395]]\n",
      "\n",
      "귀무가설을 기각합니다: 흡연과 피부암 간에 유의미한 관계가 있습니다.\n"
     ]
    }
   ],
   "source": [
    "# 교차표 생성\n",
    "contingency_table = pd.crosstab(df['Smoking'], df['SkinCancer'])\n",
    "print(\"교차표:\")\n",
    "print(contingency_table)\n",
    "\n",
    "# 카이제곱 검정 수행\n",
    "chi2, p, dof, expected = stats.chi2_contingency(contingency_table)\n",
    "\n",
    "# 결과 출력\n",
    "print(\"\\n카이제곱 검정 결과:\")\n",
    "print(f\"카이제곱 값: {chi2}\")\n",
    "print(f\"P-값: {p}\")\n",
    "print(f\"자유도: {dof}\")\n",
    "print(\"기대 빈도수:\")\n",
    "print(expected)\n",
    "\n",
    "# 결론\n",
    "alpha = 0.05\n",
    "if p < alpha:\n",
    "    print(\"\\n귀무가설을 기각합니다: 흡연과 피부암 간에 유의미한 관계가 있습니다.\")\n",
    "else:\n",
    "    print(\"\\n귀무가설을 기각하지 않습니다: 흡연과 피부암 간에 유의미한 관계가 없습니다.\")"
   ]
  },
  {
   "cell_type": "markdown",
   "id": "9fa56afc-b318-4d98-9b22-7e87bc877ee5",
   "metadata": {},
   "source": [
    "#### Hypothesis Testing 4\n",
    "###### H₀ (귀무가설): 나이대(AgeCategory)는 수면 시간(SleepTime)과 관련이 없다.\n",
    "###### H₁ (대립가설): 나이대는 수면 시간과 관련이 있다\n",
    "###### H₀ (Null Hypothesis): Age category is not related to sleep time.\n",
    "###### H₁ (Alternative Hypothesis): Age category is related to sleep time"
   ]
  },
  {
   "cell_type": "code",
   "execution_count": 87,
   "id": "97d6d455-9ffa-4684-a01d-78aae69b0ed7",
   "metadata": {},
   "outputs": [
    {
     "name": "stdout",
     "output_type": "stream",
     "text": [
      "F_onewayResult(statistic=126.60748439182954, pvalue=9.135064263e-315)\n",
      "ANOVA 검정 결과:\n",
      "F-통계량: 126.60748439182954\n",
      "P-값: 9.135064263e-315\n",
      "\n",
      "귀무가설을 기각합니다: 나이대에 따라 수면 시간에 유의미한 차이가 있습니다.\n"
     ]
    }
   ],
   "source": [
    "# 나이대별 수면 시간 추출\n",
    "groups = df.groupby('AgeCategory')['SleepTime'].apply(list)\n",
    "\n",
    "# ANOVA 검정 수행\n",
    "f_stat, p_value = stats.f_oneway(*groups)\n",
    "print(stats.f_oneway(*groups))\n",
    "\n",
    "# 결과 출력\n",
    "print(\"ANOVA 검정 결과:\")\n",
    "print(f\"F-통계량: {f_stat}\")\n",
    "print(f\"P-값: {p_value}\")\n",
    "\n",
    "# 결론\n",
    "alpha = 0.05\n",
    "if p_value < alpha:\n",
    "    print(\"\\n귀무가설을 기각합니다: 나이대에 따라 수면 시간에 유의미한 차이가 있습니다.\")\n",
    "else:\n",
    "    print(\"\\n귀무가설을 기각하지 않습니다: 나이대에 따라 수면 시간에 유의미한 차이가 없습니다.\")"
   ]
  },
  {
   "cell_type": "markdown",
   "id": "530583ce-fd4f-4d44-acb8-6f265a694737",
   "metadata": {},
   "source": [
    "#### Hypothesis Testing 5\n",
    "###### H₀ (귀무가설): 신체 활동 여부는 신체 건강(PhysicalHealth) 상태에 영향을 미치지 않는다\n",
    "###### H₁ (대립가설): 신체 활동 여부는 신체 건강 상태에 영향을 미친다\n",
    "###### H₀ (Null Hypothesis): Physical activity does not affect physical health.\n",
    "###### H₁ (Alternative Hypothesis): Physical activity affects physical health."
   ]
  },
  {
   "cell_type": "code",
   "execution_count": 88,
   "id": "946e6f51-6de2-4e18-97dd-2d109ebab0e6",
   "metadata": {},
   "outputs": [
    {
     "name": "stdout",
     "output_type": "stream",
     "text": [
      "TtestResult(statistic=-63.43817378898995, pvalue=0.0, df=68793.0)\n",
      "T-검정 결과:\n",
      "T-통계량: -63.43817378898995\n",
      "P-값: 0.0\n",
      "\n",
      "귀무가설을 기각합니다: 신체 활동 여부에 따라 신체 건강 상태에 유의미한 차이가 있습니다.\n"
     ]
    }
   ],
   "source": [
    "# 신체 활동 그룹에 따라 신체 건강 일수 분리\n",
    "active_group = df[df['PhysicalActivity'] == 'Yes']['PhysicalHealth']\n",
    "inactive_group = df[df['PhysicalActivity'] == 'No']['PhysicalHealth']\n",
    "\n",
    "# T-검정 수행\n",
    "t_stat, p_value = stats.ttest_ind(active_group, inactive_group)\n",
    "print(stats.ttest_ind(active_group, inactive_group))\n",
    "\n",
    "# 결과 출력\n",
    "print(\"T-검정 결과:\")\n",
    "print(f\"T-통계량: {t_stat}\")\n",
    "print(f\"P-값: {p_value}\")\n",
    "\n",
    "# 결론\n",
    "alpha = 0.05\n",
    "if p_value < alpha:\n",
    "    print(\"\\n귀무가설을 기각합니다: 신체 활동 여부에 따라 신체 건강 상태에 유의미한 차이가 있습니다.\")\n",
    "else:\n",
    "    print(\"\\n귀무가설을 기각하지 않습니다: 신체 활동 여부에 따라 신체 건강 상태에 유의미한 차이가 없습니다.\")"
   ]
  },
  {
   "cell_type": "markdown",
   "id": "638d0fca-f195-4fe5-8cba-ebf232ee5837",
   "metadata": {},
   "source": [
    "#### Hypothesis Testing 6\n",
    "###### H₀ (귀무가설): 정신 건강 점수는 신체 활동 여부와 상관없이 평균이 같다.\n",
    "###### H₁ (대립가설): 정신 건강 점수는 신체 활동 여부에 따라 평균이 다르다.\n",
    "###### H₀ (Null Hypothesis): Physical activity does not affect physical health.\n",
    "###### H₁ (Alternative Hypothesis): Physical activity affects physical health."
   ]
  },
  {
   "cell_type": "code",
   "execution_count": 89,
   "id": "3d0e5499-d688-4143-b465-315af6530b34",
   "metadata": {},
   "outputs": [
    {
     "name": "stdout",
     "output_type": "stream",
     "text": [
      "TtestResult(statistic=-25.443079381964814, pvalue=3.843057649856888e-142, df=68793.0)\n",
      "T-검정 결과:\n",
      "T-통계량: -25.443079381964814\n",
      "P-값: 3.843057649856888e-142\n",
      "\n",
      "귀무가설을 기각합니다: 신체 활동 여부에 따라 정신 건강 점수에 유의미한 차이가 있습니다.\n"
     ]
    }
   ],
   "source": [
    "# 신체 활동 그룹과 비활동 그룹의 정신 건강 점수 추출\n",
    "active_group = df[df['PhysicalActivity'] == 'Yes']['MentalHealth']\n",
    "inactive_group = df[df['PhysicalActivity'] == 'No']['MentalHealth']\n",
    "\n",
    "# T-검정 수행\n",
    "t_stat, p_value = stats.ttest_ind(active_group, inactive_group)\n",
    "print(stats.ttest_ind(active_group, inactive_group))\n",
    "\n",
    "# 결과 출력\n",
    "print(\"T-검정 결과:\")\n",
    "print(f\"T-통계량: {t_stat}\")\n",
    "print(f\"P-값: {p_value}\")\n",
    "\n",
    "# 결론\n",
    "alpha = 0.05\n",
    "if p_value < alpha:\n",
    "    print(\"\\n귀무가설을 기각합니다: 신체 활동 여부에 따라 정신 건강 점수에 유의미한 차이가 있습니다.\")\n",
    "else:\n",
    "    print(\"\\n귀무가설을 기각하지 않습니다: 신체 활동 여부에 따라 정신 건강 점수에 유의미한 차이가 없습니다.\")"
   ]
  },
  {
   "cell_type": "markdown",
   "id": "917eb8e6-d8fc-4370-8b8d-d2bb02d8559f",
   "metadata": {},
   "source": [
    "#### Hypothesis Testing 7\n",
    "###### H₀ (귀무가설): 심장병 여부(HeartDisease)는 신체 건강 상태(PhysicalHealth)에 영향을 미치지 않는다.\n",
    "###### H₁ (대립가설): 심장병 여부는 신체 건강 상태에 영향을 미친다\n",
    "###### H₀ (Null Hypothesis): Heart disease does not affect physical health.\n",
    "###### H₁ (Alternative Hypothesis): Heart disease affects physical health"
   ]
  },
  {
   "cell_type": "code",
   "execution_count": 38,
   "id": "0798c2aa-8e0d-4ac2-aec5-c5176f390965",
   "metadata": {},
   "outputs": [
    {
     "name": "stdout",
     "output_type": "stream",
     "text": [
      "T-검정 결과:\n",
      "T-통계량: 45.55254840210171\n",
      "P-값: 0.0\n",
      "\n",
      "귀무가설을 기각합니다: 심장병 여부에 따라 신체 건강 일수에 유의미한 차이가 있습니다.\n"
     ]
    }
   ],
   "source": [
    "# 심장병 그룹에 따라 신체 건강 일수 분리\n",
    "heart_disease_group = df[df['HeartDisease'] == 'Yes']['PhysicalHealth']\n",
    "no_heart_disease_group = df[df['HeartDisease'] == 'No']['PhysicalHealth']\n",
    "\n",
    "# T-검정 수행\n",
    "t_stat, p_value = stats.ttest_ind(heart_disease_group, no_heart_disease_group)\n",
    "\n",
    "# 결과 출력\n",
    "print(\"T-검정 결과:\")\n",
    "print(f\"T-통계량: {t_stat}\")\n",
    "print(f\"P-값: {p_value}\")\n",
    "\n",
    "# 결론\n",
    "alpha = 0.05\n",
    "if p_value < alpha:\n",
    "    print(\"\\n귀무가설을 기각합니다: 심장병 여부에 따라 신체 건강 일수에 유의미한 차이가 있습니다.\")\n",
    "else:\n",
    "    print(\"\\n귀무가설을 기각하지 않습니다: 심장병 여부에 따라 신체 건강 일수에 유의미한 차이가 없습니다.\")"
   ]
  },
  {
   "cell_type": "markdown",
   "id": "00e9de3c-5d0a-46e2-8430-2913ae7519ea",
   "metadata": {},
   "source": [
    "#### Hypothesis Testing 8\n",
    "###### H₀ (귀무가설): 성별(Sex)은 정신 건강(MentalHealth) 상태에 영향을 미치지 않는다.\n",
    "###### H₁ (대립가설): 성별은 정신 건강 상태에 영향을 미친다\n",
    "###### H₀ (Null Hypothesis): Gender does not affect mental health.\n",
    "###### H₁ (Alternative Hypothesis): Gender affects mental health"
   ]
  },
  {
   "cell_type": "code",
   "execution_count": 37,
   "id": "ad0ec232-66a9-4fbe-8bc0-12821ce25120",
   "metadata": {},
   "outputs": [
    {
     "name": "stdout",
     "output_type": "stream",
     "text": [
      "T-검정 결과:\n",
      "T-통계량: 26.21825670981845\n",
      "P-값: 9.10600976411222e-151\n",
      "\n",
      "귀무가설을 기각합니다: 성별에 따라 정신 건강 일수에 유의미한 차이가 있습니다.\n"
     ]
    }
   ],
   "source": [
    "# 성별 그룹에 따라 정신 건강 일수 분리\n",
    "female_group = df[df['Sex'] == 'Female']['MentalHealth']\n",
    "male_group = df[df['Sex'] == 'Male']['MentalHealth']\n",
    "\n",
    "# T-검정 수행\n",
    "t_stat, p_value = stats.ttest_ind(female_group, male_group)\n",
    "\n",
    "# 결과 출력\n",
    "print(\"T-검정 결과:\")\n",
    "print(f\"T-통계량: {t_stat}\")\n",
    "print(f\"P-값: {p_value}\")\n",
    "\n",
    "# 결론\n",
    "alpha = 0.05\n",
    "if p_value < alpha:\n",
    "    print(\"\\n귀무가설을 기각합니다: 성별에 따라 정신 건강 일수에 유의미한 차이가 있습니다.\")\n",
    "else:\n",
    "    print(\"\\n귀무가설을 기각하지 않습니다: 성별에 따라 정신 건강 일수에 유의미한 차이가 없습니다.\")"
   ]
  },
  {
   "cell_type": "markdown",
   "id": "d2c01357-d495-4d92-8849-bc469b8370e4",
   "metadata": {},
   "source": [
    "#### Hypothesis Testing 9\n",
    "###### H₀ (귀무가설): 당뇨병 여부(Diabetic)는 신장 질환(KidneyDisease) 발생과 관련이 없다.\n",
    "###### H₁ (대립가설): 당뇨병 여부는 신장 질환 발생과 관련이 있다\n",
    "###### H₀ (Null Hypothesis): Diabetes is not related to the occurrence of kidney disease.\n",
    "###### H₁ (Alternative Hypothesis): Diabetes is related to the occurrence of kidney disease."
   ]
  },
  {
   "cell_type": "code",
   "execution_count": 36,
   "id": "8daed725-8fc0-403b-b243-11c417647d67",
   "metadata": {},
   "outputs": [
    {
     "name": "stdout",
     "output_type": "stream",
     "text": [
      "교차표:\n",
      "KidneyDisease               No   Yes\n",
      "Diabetic                            \n",
      "No                       56599  1480\n",
      "No, borderline diabetes   1335    56\n",
      "Yes                       7794   988\n",
      "Yes (during pregnancy)     529    14\n",
      "\n",
      "카이제곱 검정 결과:\n",
      "카이제곱 값: 1628.1465034845512\n",
      "P-값: 0.0\n",
      "자유도: 3\n",
      "기대 빈도수:\n",
      "[[5.59363370e+04 2.14266301e+03]\n",
      " [1.33968293e+03 5.13170725e+01]\n",
      " [8.45801256e+03 3.23987441e+02]\n",
      " [5.22967527e+02 2.00324733e+01]]\n",
      "\n",
      "귀무가설을 기각합니다: 당뇨병 여부와 신장 질환 간에 유의미한 관계가 있습니다.\n"
     ]
    }
   ],
   "source": [
    "# 교차표 생성\n",
    "contingency_table = pd.crosstab(df['Diabetic'], df['KidneyDisease'])\n",
    "print(\"교차표:\")\n",
    "print(contingency_table)\n",
    "\n",
    "# 카이제곱 검정 수행\n",
    "chi2, p, dof, expected = stats.chi2_contingency(contingency_table)\n",
    "\n",
    "# 결과 출력\n",
    "print(\"\\n카이제곱 검정 결과:\")\n",
    "print(f\"카이제곱 값: {chi2}\")\n",
    "print(f\"P-값: {p}\")\n",
    "print(f\"자유도: {dof}\")\n",
    "print(\"기대 빈도수:\")\n",
    "print(expected)\n",
    "\n",
    "# 결론\n",
    "alpha = 0.05\n",
    "if p < alpha:\n",
    "    print(\"\\n귀무가설을 기각합니다: 당뇨병 여부와 신장 질환 간에 유의미한 관계가 있습니다.\")\n",
    "else:\n",
    "    print(\"\\n귀무가설을 기각하지 않습니다: 당뇨병 여부와 신장 질환 간에 유의미한 관계가 없습니다.\")"
   ]
  },
  {
   "cell_type": "markdown",
   "id": "90b0fc92-3520-4418-a5ea-f51500d370df",
   "metadata": {},
   "source": [
    "#### Correlation 1\n",
    "###### Correlation Between Physical Health and Mental Health"
   ]
  },
  {
   "cell_type": "markdown",
   "id": "ce50f353-9454-40fa-a51c-efb197a5ddea",
   "metadata": {},
   "source": [
    "#### Correlation 2\n",
    "###### Correlation Between Physical Activity and Physical Health"
   ]
  },
  {
   "cell_type": "markdown",
   "id": "27226fea-55f5-499c-a870-62128264184c",
   "metadata": {},
   "source": [
    "#### Correlation 2\n",
    "###### Correlation Between Physical Activity and Physical Health"
   ]
  },
  {
   "cell_type": "code",
   "execution_count": 90,
   "id": "4623c309-5d25-4eee-aa7a-e7d71cc67a9f",
   "metadata": {},
   "outputs": [
    {
     "name": "stdout",
     "output_type": "stream",
     "text": [
      "피어슨 상관계수: 0.2889870879725878\n"
     ]
    }
   ],
   "source": [
    "# 신체 건강과 정신 건강 간의 상관관계\n",
    "# 피어슨 상관계수 계산\n",
    "correlation = df['PhysicalHealth'].corr(df['MentalHealth'], method='pearson')\n",
    "\n",
    "# 결과 출력\n",
    "print(\"피어슨 상관계수:\", correlation)"
   ]
  },
  {
   "cell_type": "code",
   "execution_count": 99,
   "id": "b701280c-16f1-4df5-813c-33f26dcdb53e",
   "metadata": {},
   "outputs": [
    {
     "name": "stdout",
     "output_type": "stream",
     "text": [
      "Pearson Correlation Coefficient: -0.11324771465427293\n"
     ]
    }
   ],
   "source": [
    "# 정신 건강과 수면 시간 상관계수\n",
    "# Calculate the Pearson correlation coefficient between MentalHealth and SleepTime\n",
    "correlation = df['MentalHealth'].corr(df['SleepTime'], method='pearson')\n",
    "\n",
    "# Output the result\n",
    "print(\"Pearson Correlation Coefficient:\", correlation)"
   ]
  },
  {
   "cell_type": "code",
   "execution_count": 105,
   "id": "7170bd49-2484-4985-8ed9-e24b027a6cd7",
   "metadata": {},
   "outputs": [
    {
     "name": "stdout",
     "output_type": "stream",
     "text": [
      "Pearson Correlation Coefficient between Alcohol Drinking and Physical Health: -0.018289479110830835\n",
      "Pearson Correlation Coefficient between Alcohol Drinking and Mental Health: 0.05526176837666211\n"
     ]
    }
   ],
   "source": [
    "# Convert AlcoholDrinking to numeric (Yes -> 1, No -> 0)\n",
    "df['AlcoholDrinking'] = df['AlcoholDrinking'].map({'Yes': 1, 'No': 0})\n",
    "\n",
    "# Calculate the Pearson correlation coefficient for Alcohol Drinking and Physical Health\n",
    "physical_corr = df['AlcoholDrinking'].corr(df['PhysicalHealth'], method='pearson')\n",
    "\n",
    "# Calculate the Pearson correlation coefficient for Alcohol Drinking and Mental Health\n",
    "mental_corr = df['AlcoholDrinking'].corr(df['MentalHealth'], method='pearson')\n",
    "\n",
    "# Output the results\n",
    "print(\"Pearson Correlation Coefficient between Alcohol Drinking and Physical Health:\", physical_corr)\n",
    "print(\"Pearson Correlation Coefficient between Alcohol Drinking and Mental Health:\", mental_corr)"
   ]
  },
  {
   "cell_type": "code",
   "execution_count": null,
   "id": "d0fbe4ea-07da-4f1e-ad38-c524e25017e2",
   "metadata": {},
   "outputs": [],
   "source": [
    "Correlation Between Alcohol Consumption and Mental Health"
   ]
  }
 ],
 "metadata": {
  "kernelspec": {
   "display_name": "Python 3 (ipykernel)",
   "language": "python",
   "name": "python3"
  },
  "language_info": {
   "codemirror_mode": {
    "name": "ipython",
    "version": 3
   },
   "file_extension": ".py",
   "mimetype": "text/x-python",
   "name": "python",
   "nbconvert_exporter": "python",
   "pygments_lexer": "ipython3",
   "version": "3.11.7"
  }
 },
 "nbformat": 4,
 "nbformat_minor": 5
}
